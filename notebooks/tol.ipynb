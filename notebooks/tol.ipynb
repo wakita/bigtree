{
 "cells": [
  {
   "cell_type": "code",
   "execution_count": 27,
   "metadata": {},
   "outputs": [],
   "source": [
    "import json\n",
    "\n",
    "from init_project import PROJECT\n",
    "\n",
    "class TreeOfLife:\n",
    "    with open(PROJECT/'data'/'tree_of_life.json') as f:\n",
    "        ToL = json.load(f)\n",
    "\n",
    "    def __init__(self):\n",
    "        with open(PROJECT/'data'/'tree_of_life.json') as f:\n",
    "            ToL = self.ToL# = json.load(f)\n",
    "            self.lives = ToL['lives']\n",
    "            self.index = ToL['index']\n",
    "            self.lookup = ToL['lookup']\n",
    "            self.orphans = ToL['orphans']\n",
    "\n",
    "    def life(self, name=None, n=None):\n",
    "        if type(name) == str: n = self.lookup[name]\n",
    "        if type(n) == int:\n",
    "            return self.lives[n]\n",
    "            #life = self.lives[n]\n",
    "            #return dict(n, life['parent'], life['name'], life['children'])\n",
    "\n",
    "    def subtree(self, name=None, n=None, depth=2^32):\n",
    "        if type(name) == str: life = self.life(name=name)\n",
    "        elif type(n) == int: life = self.life(n=n)\n",
    "        else: return\n",
    "        \n",
    "        print(life)\n",
    "        if depth <= 0: return dict(n=life['n'], parent=life['parent'], name=life['name'], children=[-1 for _ in life['children']])\n",
    "        life = dict(n=life['n'], parent=life['parent'], name=life['name'],\n",
    "                    children=[self.subtree(n=c, depth=depth-1) for c in life['children']])\n",
    "        return life"
   ]
  },
  {
   "cell_type": "markdown",
   "metadata": {},
   "source": [
    "# Tree of Live データの読み込み\n",
    "\n",
    "変数 `ToL` が定義されていれば、それをそのまま使い、定義されていなかったら JSON ファイルから読み込む。JSON ファイルからの読み込みには M3 MacBook Air で約 5.2s を要する。"
   ]
  },
  {
   "cell_type": "code",
   "execution_count": 31,
   "metadata": {},
   "outputs": [],
   "source": [
    "del ToL"
   ]
  },
  {
   "cell_type": "code",
   "execution_count": 32,
   "metadata": {},
   "outputs": [],
   "source": [
    "# 5.2s on M3 MacBook Air\n",
    "\n",
    "try: ToL\n",
    "except:\n",
    "    ToL = TreeOfLife()"
   ]
  },
  {
   "cell_type": "code",
   "execution_count": 33,
   "metadata": {},
   "outputs": [
    {
     "name": "stdout",
     "output_type": "stream",
     "text": [
      "{'n': 1576323, 'name': 'Homo sapiens', 'parent': 1571040, 'children': []}\n",
      "{'n': 1576323, 'name': 'Homo sapiens', 'parent': 1571040, 'children': []}\n"
     ]
    }
   ],
   "source": [
    "HomoSapiens = ToL.life(name='Homo sapiens')\n",
    "print(HomoSapiens)\n",
    "print(ToL.life(n=HomoSapiens['n']))"
   ]
  },
  {
   "cell_type": "code",
   "execution_count": 34,
   "metadata": {},
   "outputs": [
    {
     "name": "stdout",
     "output_type": "stream",
     "text": [
      "{'n': 1576323, 'name': 'Homo sapiens', 'parent': 1571040, 'children': []}\n"
     ]
    },
    {
     "data": {
      "text/plain": [
       "{'n': 1576323, 'parent': 1571040, 'name': 'Homo sapiens', 'children': []}"
      ]
     },
     "execution_count": 34,
     "metadata": {},
     "output_type": "execute_result"
    }
   ],
   "source": [
    "ToL.subtree(name='Homo sapiens')"
   ]
  },
  {
   "cell_type": "code",
   "execution_count": 35,
   "metadata": {},
   "outputs": [
    {
     "name": "stdout",
     "output_type": "stream",
     "text": [
      "{'n': 1571040, 'name': 'Homo', 'parent': 1578853, 'children': [1576323]}\n",
      "{'n': 1576323, 'name': 'Homo sapiens', 'parent': 1571040, 'children': []}\n"
     ]
    },
    {
     "data": {
      "text/plain": [
       "{'n': 1571040,\n",
       " 'parent': 1578853,\n",
       " 'name': 'Homo',\n",
       " 'children': [{'n': 1576323,\n",
       "   'parent': 1571040,\n",
       "   'name': 'Homo sapiens',\n",
       "   'children': []}]}"
      ]
     },
     "execution_count": 35,
     "metadata": {},
     "output_type": "execute_result"
    }
   ],
   "source": [
    "ToL.subtree(name='Homo')"
   ]
  },
  {
   "cell_type": "code",
   "execution_count": 36,
   "metadata": {},
   "outputs": [
    {
     "data": {
      "text/plain": [
       "{'n': 1571040, 'name': 'Homo', 'parent': 1578853, 'children': [1576323]}"
      ]
     },
     "execution_count": 36,
     "metadata": {},
     "output_type": "execute_result"
    }
   ],
   "source": [
    "ToL.life(n=HomoSapiens['parent'])"
   ]
  },
  {
   "cell_type": "code",
   "execution_count": null,
   "metadata": {},
   "outputs": [],
   "source": []
  }
 ],
 "metadata": {
  "kernelspec": {
   "display_name": "vis23",
   "language": "python",
   "name": "python3"
  },
  "language_info": {
   "codemirror_mode": {
    "name": "ipython",
    "version": 3
   },
   "file_extension": ".py",
   "mimetype": "text/x-python",
   "name": "python",
   "nbconvert_exporter": "python",
   "pygments_lexer": "ipython3",
   "version": "3.9.6"
  }
 },
 "nbformat": 4,
 "nbformat_minor": 2
}
