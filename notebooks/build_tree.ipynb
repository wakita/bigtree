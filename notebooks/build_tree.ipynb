{
 "cells": [
  {
   "cell_type": "code",
   "execution_count": 1,
   "metadata": {},
   "outputs": [],
   "source": [
    "import init_project\n",
    "PROJECT = init_project.PROJECT\n",
    "\n",
    "from IPython.display import display, Markdown\n",
    "import pandas as pd"
   ]
  },
  {
   "cell_type": "markdown",
   "metadata": {},
   "source": [
    "M1 MacBook Air で 約 15 秒。M3 MacBook Air で約 7.5 秒。"
   ]
  },
  {
   "cell_type": "code",
   "execution_count": 2,
   "metadata": {},
   "outputs": [
    {
     "data": {
      "text/html": [
       "<div>\n",
       "<style scoped>\n",
       "    .dataframe tbody tr th:only-of-type {\n",
       "        vertical-align: middle;\n",
       "    }\n",
       "\n",
       "    .dataframe tbody tr th {\n",
       "        vertical-align: top;\n",
       "    }\n",
       "\n",
       "    .dataframe thead th {\n",
       "        text-align: right;\n",
       "    }\n",
       "</style>\n",
       "<table border=\"1\" class=\"dataframe\">\n",
       "  <thead>\n",
       "    <tr style=\"text-align: right;\">\n",
       "      <th></th>\n",
       "      <th>ID</th>\n",
       "      <th>parentID</th>\n",
       "      <th>scientificName</th>\n",
       "      <th>rank</th>\n",
       "    </tr>\n",
       "  </thead>\n",
       "  <tbody>\n",
       "    <tr>\n",
       "      <th>0</th>\n",
       "      <td>63W48</td>\n",
       "      <td>HFD</td>\n",
       "      <td>Trichosphaerium</td>\n",
       "      <td>genus</td>\n",
       "    </tr>\n",
       "    <tr>\n",
       "      <th>1</th>\n",
       "      <td>HFD</td>\n",
       "      <td>QM</td>\n",
       "      <td>Trichosidae</td>\n",
       "      <td>family</td>\n",
       "    </tr>\n",
       "    <tr>\n",
       "      <th>2</th>\n",
       "      <td>7C977</td>\n",
       "      <td>646LT</td>\n",
       "      <td>Thermococcus barossii</td>\n",
       "      <td>species</td>\n",
       "    </tr>\n",
       "    <tr>\n",
       "      <th>3</th>\n",
       "      <td>53FRF</td>\n",
       "      <td>6463M</td>\n",
       "      <td>Sulfurococcus mirabilis</td>\n",
       "      <td>species</td>\n",
       "    </tr>\n",
       "    <tr>\n",
       "      <th>4</th>\n",
       "      <td>42FG7</td>\n",
       "      <td>5QTK</td>\n",
       "      <td>Methanotorris igneus</td>\n",
       "      <td>species</td>\n",
       "    </tr>\n",
       "    <tr>\n",
       "      <th>...</th>\n",
       "      <td>...</td>\n",
       "      <td>...</td>\n",
       "      <td>...</td>\n",
       "      <td>...</td>\n",
       "    </tr>\n",
       "    <tr>\n",
       "      <th>5005929</th>\n",
       "      <td>C8Y6D</td>\n",
       "      <td>C8YWG</td>\n",
       "      <td>Anaspidoglanis</td>\n",
       "      <td>genus</td>\n",
       "    </tr>\n",
       "    <tr>\n",
       "      <th>5005930</th>\n",
       "      <td>C9MCZ</td>\n",
       "      <td>C9MCY</td>\n",
       "      <td>Dinophysis</td>\n",
       "      <td>genus</td>\n",
       "    </tr>\n",
       "    <tr>\n",
       "      <th>5005931</th>\n",
       "      <td>C9X59</td>\n",
       "      <td>622TP</td>\n",
       "      <td>Greenella</td>\n",
       "      <td>genus</td>\n",
       "    </tr>\n",
       "    <tr>\n",
       "      <th>5005932</th>\n",
       "      <td>CC2RH</td>\n",
       "      <td>7NLGN</td>\n",
       "      <td>Reddellobus</td>\n",
       "      <td>genus</td>\n",
       "    </tr>\n",
       "    <tr>\n",
       "      <th>5005933</th>\n",
       "      <td>CBRRJ</td>\n",
       "      <td>7HG</td>\n",
       "      <td>Parabrosmolus</td>\n",
       "      <td>genus</td>\n",
       "    </tr>\n",
       "  </tbody>\n",
       "</table>\n",
       "<p>2437976 rows × 4 columns</p>\n",
       "</div>"
      ],
      "text/plain": [
       "            ID parentID           scientificName     rank\n",
       "0        63W48      HFD          Trichosphaerium    genus\n",
       "1          HFD       QM              Trichosidae   family\n",
       "2        7C977    646LT    Thermococcus barossii  species\n",
       "3        53FRF    6463M  Sulfurococcus mirabilis  species\n",
       "4        42FG7     5QTK     Methanotorris igneus  species\n",
       "...        ...      ...                      ...      ...\n",
       "5005929  C8Y6D    C8YWG           Anaspidoglanis    genus\n",
       "5005930  C9MCZ    C9MCY               Dinophysis    genus\n",
       "5005931  C9X59    622TP                Greenella    genus\n",
       "5005932  CC2RH    7NLGN              Reddellobus    genus\n",
       "5005933  CBRRJ      7HG            Parabrosmolus    genus\n",
       "\n",
       "[2437976 rows x 4 columns]"
      ]
     },
     "execution_count": 2,
     "metadata": {},
     "output_type": "execute_result"
    }
   ],
   "source": [
    "COLUMNS = 'col:ID col:parentID col:status col:scientificName col:rank'.split()\n",
    "CoL = pd.read_csv(PROJECT / 'data' / 'NameUsage.tsv', sep='\\t', header=0, on_bad_lines='warn', usecols=COLUMNS).rename(columns=lambda x: x.split(':')[1]).query('status == \"accepted\"').drop(columns=['status'])\n",
    "CoL.reset_index()\n",
    "CoL"
   ]
  },
  {
   "cell_type": "code",
   "execution_count": 3,
   "metadata": {},
   "outputs": [
    {
     "data": {
      "text/html": [
       "<div>\n",
       "<style scoped>\n",
       "    .dataframe tbody tr th:only-of-type {\n",
       "        vertical-align: middle;\n",
       "    }\n",
       "\n",
       "    .dataframe tbody tr th {\n",
       "        vertical-align: top;\n",
       "    }\n",
       "\n",
       "    .dataframe thead th {\n",
       "        text-align: right;\n",
       "    }\n",
       "</style>\n",
       "<table border=\"1\" class=\"dataframe\">\n",
       "  <thead>\n",
       "    <tr style=\"text-align: right;\">\n",
       "      <th></th>\n",
       "      <th>ID</th>\n",
       "      <th>parentID</th>\n",
       "      <th>scientificName</th>\n",
       "      <th>rank</th>\n",
       "    </tr>\n",
       "  </thead>\n",
       "  <tbody>\n",
       "    <tr>\n",
       "      <th>4997820</th>\n",
       "      <td>5T6MX</td>\n",
       "      <td>NaN</td>\n",
       "      <td>Biota</td>\n",
       "      <td>unranked</td>\n",
       "    </tr>\n",
       "    <tr>\n",
       "      <th>5000408</th>\n",
       "      <td>V</td>\n",
       "      <td>NaN</td>\n",
       "      <td>Viruses</td>\n",
       "      <td>unranked</td>\n",
       "    </tr>\n",
       "  </tbody>\n",
       "</table>\n",
       "</div>"
      ],
      "text/plain": [
       "            ID parentID scientificName      rank\n",
       "4997820  5T6MX      NaN          Biota  unranked\n",
       "5000408      V      NaN        Viruses  unranked"
      ]
     },
     "execution_count": 3,
     "metadata": {},
     "output_type": "execute_result"
    }
   ],
   "source": [
    "ROOTS = {id for id in CoL[CoL.parentID.isna()].ID}\n",
    "CoL[CoL.ID.isin(ROOTS)]"
   ]
  },
  {
   "cell_type": "markdown",
   "metadata": {},
   "source": [
    "# 木構造の構成\n",
    "\n",
    "`build_tree()` は MacBook Air M1 で 1分8秒。一度実行すると3つの JSON ファイルを生成する。二度目以後は、JSON ファイルが存在する場合は、ファイルを読み込むだけだから高速で 11 秒。\n",
    "\n",
    "M1 MacBook Air の Low Power Mode on のとき\n",
    "1m 20s: Root Life: Biota, Viruses\n",
    "\n",
    "M3 MacBook Air で約 51s。JSON の保存に約 10s"
   ]
  },
  {
   "cell_type": "code",
   "execution_count": 29,
   "metadata": {},
   "outputs": [
    {
     "name": "stdout",
     "output_type": "stream",
     "text": [
      "Root of life: Biota\n",
      "Root of life: Viruses\n"
     ]
    }
   ],
   "source": [
    "import json\n",
    "\n",
    "def build_tree():\n",
    "    ROOT = 'ROOT of LIFE'\n",
    "\n",
    "    # CoL ID -> index の対応表\n",
    "    index = {id: i for i, id in enumerate(CoL.ID)}\n",
    "    index[ROOT] = -1\n",
    "\n",
    "    # Life の木構造（MacBook Air M1 で約48秒）\n",
    "    # 各頂点の先頭の要素はその頂点の親の ID、それ以降はその頂点の子\n",
    "\n",
    "    lives = [{'n': n, 'name': name, 'parent': -1, 'children': []}\n",
    "           for n, name in enumerate(CoL.scientificName)]\n",
    "    lives.append({'n': -1, 'name': ROOT, 'parent': -1, 'children': []})  # ToL[-1]\n",
    "\n",
    "    # 学名 -> index の対応表\n",
    "    lookup = { life['name']: life['n'] for life in lives }\n",
    "\n",
    "    orphans = []\n",
    "\n",
    "    for _, life in CoL.iterrows():\n",
    "        _life = lives[index[life.ID]]\n",
    "        try:\n",
    "            if pd.isna(life.parentID): print(f'Root of life: {life.scientificName}')\n",
    "            parent = lives[index[life.parentID]]\n",
    "            _life['parent'] = parent['n']\n",
    "            parent['children'].append(_life['n'])\n",
    "        except: orphans.append({ 'id': life.ID, 'name': life.scientificName }) # parentID が登録されていない Life は無視する\n",
    "\n",
    "    return dict(lives=lives, index=index, lookup=lookup, orphans=orphans)\n",
    "\n",
    "F_ToL = PROJECT / 'data' / 'tree_of_life.json'\n",
    "ToL = build_tree()\n",
    "with F_ToL.open('w') as w: json.dump(ToL, w)"
   ]
  },
  {
   "cell_type": "code",
   "execution_count": 33,
   "metadata": {},
   "outputs": [
    {
     "data": {
      "text/plain": [
       "{'n': 2429906,\n",
       " 'name': 'Biota',\n",
       " 'parent': -1,\n",
       " 'children': [225, 8676, 306929, 2429995, 2431687, 2432069, 2436434]}"
      ]
     },
     "execution_count": 33,
     "metadata": {},
     "output_type": "execute_result"
    }
   ],
   "source": [
    "ToL['lives'][ToL['lookup']['Biota']]"
   ]
  },
  {
   "cell_type": "code",
   "execution_count": 34,
   "metadata": {},
   "outputs": [
    {
     "data": {
      "text/plain": [
       "{'n': 1576323, 'name': 'Homo sapiens', 'parent': 1571040, 'children': []}"
      ]
     },
     "execution_count": 34,
     "metadata": {},
     "output_type": "execute_result"
    }
   ],
   "source": [
    "ToL['lives'][ToL['lookup']['Homo sapiens']]"
   ]
  },
  {
   "cell_type": "code",
   "execution_count": null,
   "metadata": {},
   "outputs": [],
   "source": []
  }
 ],
 "metadata": {
  "kernelspec": {
   "display_name": "vis23",
   "language": "python",
   "name": "python3"
  },
  "language_info": {
   "codemirror_mode": {
    "name": "ipython",
    "version": 3
   },
   "file_extension": ".py",
   "mimetype": "text/x-python",
   "name": "python",
   "nbconvert_exporter": "python",
   "pygments_lexer": "ipython3",
   "version": "3.9.6"
  }
 },
 "nbformat": 4,
 "nbformat_minor": 2
}
