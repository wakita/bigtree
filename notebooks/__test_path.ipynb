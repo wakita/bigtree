{
 "cells": [
  {
   "cell_type": "markdown",
   "metadata": {},
   "source": [
    "# システムパスの設定\n",
    "\n",
    "Python はモジュールを読み込むときにシステムパス (`sys.path`) から、モジュールを探す。システムパスにはデフォルトで仮想環境、システムの Python の標準ディレクトリ、このノートブックを含むディレクトリが設定される。\n",
    "\n",
    "本プロジェクトのように、ノートブックと Python モジュールを別の場所 (`notebooks` と `src`) に保存する場合、ノートブックに `src` にあるモジュールを読み込むためには、システムパスを設定しなくてはならない。"
   ]
  },
  {
   "cell_type": "markdown",
   "metadata": {},
   "source": [
    "---\n",
    "\n",
    "以下では、ノートが保存されている直下にあり、システムパス (`sys.path`) に `src` を追加するためのパッケージ (`init_project`) が読み込み正しく動作することを確認している。\n",
    "\n",
    "確認の内容としては、以下のとおり。\n",
    "\n",
    "1. `init_project` のパッケージ設定 (`__init__.py`) で定義された変数が見えること (`init_project.PROJECT`)\n",
    "\n",
    "1. `src` に保存されている `bigtree` パッケージが読み込めること\n",
    "\n",
    "1. `src/test/sample.py` が `test.sample` として読み込めること。そのパッケージに定義されている `test` 変数が見えること。\n",
    "\n",
    "1. `sys.path` の内容"
   ]
  },
  {
   "cell_type": "code",
   "execution_count": 10,
   "metadata": {},
   "outputs": [
    {
     "name": "stdout",
     "output_type": "stream",
     "text": [
      "/Users/wakita/Dropbox/projects/bigtree\n",
      "/Users/wakita/Dropbox/projects/bigtree ['/Users/wakita/Dropbox/projects/bigtree/src/bigtree']\n",
      "1\n"
     ]
    },
    {
     "data": {
      "text/plain": [
       "['/Users/wakita/Dropbox/projects/bigtree/src',\n",
       " '/Users/wakita/Dropbox/projects/bigtree/notebooks',\n",
       " '/opt/homebrew/Cellar/python@3.11/3.11.9/Frameworks/Python.framework/Versions/3.11/lib/python311.zip',\n",
       " '/opt/homebrew/Cellar/python@3.11/3.11.9/Frameworks/Python.framework/Versions/3.11/lib/python3.11',\n",
       " '/opt/homebrew/Cellar/python@3.11/3.11.9/Frameworks/Python.framework/Versions/3.11/lib/python3.11/lib-dynload',\n",
       " '',\n",
       " '/Users/wakita/.venvs/vis23/lib/python3.11/site-packages']"
      ]
     },
     "execution_count": 10,
     "metadata": {},
     "output_type": "execute_result"
    }
   ],
   "source": [
    "import init_project\n",
    "\n",
    "print(init_project.PROJECT)\n",
    "\n",
    "import bigtree\n",
    "print(bigtree.PROJECT, bigtree.__path__)\n",
    "\n",
    "from test.sample import test\n",
    "print(test)\n",
    "\n",
    "import sys\n",
    "sys.path"
   ]
  },
  {
   "cell_type": "code",
   "execution_count": 5,
   "metadata": {},
   "outputs": [
    {
     "data": {
      "text/plain": [
       "1"
      ]
     },
     "execution_count": 5,
     "metadata": {},
     "output_type": "execute_result"
    }
   ],
   "source": []
  },
  {
   "cell_type": "code",
   "execution_count": null,
   "metadata": {},
   "outputs": [],
   "source": []
  }
 ],
 "metadata": {
  "kernelspec": {
   "display_name": "vis23",
   "language": "python",
   "name": "python3"
  },
  "language_info": {
   "codemirror_mode": {
    "name": "ipython",
    "version": 3
   },
   "file_extension": ".py",
   "mimetype": "text/x-python",
   "name": "python",
   "nbconvert_exporter": "python",
   "pygments_lexer": "ipython3",
   "version": "3.11.9"
  }
 },
 "nbformat": 4,
 "nbformat_minor": 2
}
